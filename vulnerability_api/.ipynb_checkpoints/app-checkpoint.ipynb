{
 "cells": [
  {
   "cell_type": "code",
   "execution_count": 1,
   "id": "3a192d28-dd72-4ca1-9c44-6954ccfb409b",
   "metadata": {},
   "outputs": [],
   "source": [
    "from flask import Flask, jsonify"
   ]
  },
  {
   "cell_type": "code",
   "execution_count": 2,
   "id": "cd22d415-b61c-4984-b9da-95bbd2007459",
   "metadata": {},
   "outputs": [],
   "source": [
    "import psycopg2"
   ]
  },
  {
   "cell_type": "code",
   "execution_count": 3,
   "id": "95d1cd03-3b66-4615-a3f2-41c3dcae7956",
   "metadata": {},
   "outputs": [],
   "source": [
    "app = Flask(__name__)"
   ]
  },
  {
   "cell_type": "code",
   "execution_count": 4,
   "id": "3893d9f2-132b-4678-9e0c-2f7222abc54e",
   "metadata": {},
   "outputs": [],
   "source": [
    "# Connecting to the Database\n",
    "def get_vulnerabilities():\n",
    "    conn = psycopg2.connect(\n",
    "        db_name = \"vulnerabilities_db\",\n",
    "        user = \"postgres\",\n",
    "        password = \"12345678\",\n",
    "        host = \"localhost\"\n",
    "    )\n",
    "    cur = conn.cursor()\n",
    "    cur.execute(\"\"\"\n",
    "        SELECT title, endpoint, cve, group_tag, id, description, severity, sensor \n",
    "        FROM vuln\n",
    "    \"\"\")\n",
    "    rows = cur.fetchall()\n",
    "    conn.close()\n",
    "    return rows"
   ]
  },
  {
   "cell_type": "code",
   "execution_count": 6,
   "id": "557892c2-f8ca-4dd5-a9f8-ef351c5bc4e8",
   "metadata": {},
   "outputs": [],
   "source": [
    "@app.route('/vulnerabilities', methods = ['GET'])\n",
    "def vulnerabilities():\n",
    "    vulnerabilities = get_vulnerabilities()\n",
    "    response = [\n",
    "        {\"title\" : row[0], \"endpoint\" : row[1], \"cve\" : row[2], \"tag\" : row[3], \"id\" : row[4], \"description\" : row[5], \"severity\" : row[6],\n",
    "        \"sensor\" : row[7]} for row in vulnerabilities\n",
    "    ]\n",
    "    return jsonify(response)"
   ]
  },
  {
   "cell_type": "code",
   "execution_count": null,
   "id": "a688343e-c6b7-4aa0-b2b2-4f9483f68448",
   "metadata": {},
   "outputs": [],
   "source": [
    "if __name__ == '__main__':\n",
    "    app.run(debug = True)"
   ]
  }
 ],
 "metadata": {
  "kernelspec": {
   "display_name": "Python 3 (ipykernel)",
   "language": "python",
   "name": "python3"
  },
  "language_info": {
   "codemirror_mode": {
    "name": "ipython",
    "version": 3
   },
   "file_extension": ".py",
   "mimetype": "text/x-python",
   "name": "python",
   "nbconvert_exporter": "python",
   "pygments_lexer": "ipython3",
   "version": "3.11.5"
  }
 },
 "nbformat": 4,
 "nbformat_minor": 5
}
